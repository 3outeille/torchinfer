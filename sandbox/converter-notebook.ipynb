{
 "cells": [
  {
   "cell_type": "code",
   "execution_count": 1,
   "metadata": {},
   "outputs": [],
   "source": [
    "import torch\n",
    "import torch.optim as optim\n",
    "import torch.nn as nn\n",
    "import torch.nn.functional as F\n",
    "import torchinfo\n",
    "import onnx\n",
    "import torch.onnx\n",
    "from torch.utils.data import DataLoader, random_split\n",
    "from torchvision import datasets, transforms\n",
    "import struct\n",
    "import numpy as np"
   ]
  },
  {
   "cell_type": "code",
   "execution_count": 94,
   "metadata": {},
   "outputs": [
    {
     "name": "stdout",
     "output_type": "stream",
     "text": [
      "The model is valid!\n"
     ]
    }
   ],
   "source": [
    "class SimpleNet(nn.Module):\n",
    "    def __init__(self, num_classes=10, init_weights=True):\n",
    "        super(SimpleNet, self).__init__()\n",
    "        # self.conv1 = nn.Conv2d(in_channels=2, out_channels=4, kernel_size=3, stride=2, bias=True)\n",
    "        # self.conv2 = nn.Conv2d(in_channels=3, out_channels=5, kernel_size=4, stride=2)\n",
    "        # self.conv3 = nn.Conv2d(in_channels=5, out_channels=5, kernel_size=4, stride=2)\n",
    "\n",
    "        self.linear1 = nn.Linear(in_features=3, out_features=4, bias=False)\n",
    "        # self.linear2 = nn.Linear(in_features=10, out_features=num_classes)\n",
    "\n",
    "    def forward(self, x):\n",
    "        # x = self.conv1(x)\n",
    "        x = self.linear1(x)\n",
    "        return x\n",
    "\n",
    "model = SimpleNet()\n",
    "model = model.cuda() if torch.cuda.is_available() else model.cpu()\n",
    "\n",
    "# x = torch.randn(1, 2, 5, 5, requires_grad=True)\n",
    "x = torch.randn(5, 3, requires_grad=True)\n",
    "x = x.cuda() if torch.cuda.is_available() else x.cpu()\n",
    "\n",
    "# Export the model\n",
    "torch.onnx.export(model,                     # model being run\n",
    "                  x,                         # model input (or a tuple for multiple inputs)\n",
    "                  \"model.onnx\",              # where to save the model (can be a file or file-like object)\n",
    "                  export_params=True,        # store the trained parameter weights inside the model file\n",
    "                  opset_version=13,          # the ONNX version to export the model to\n",
    "                  do_constant_folding=True,  # whether to execute constant folding for optimization\n",
    "                  input_names = ['input'],   # the model's input names\n",
    "                  output_names = ['output'], # the model's output names\n",
    ")\n",
    "\n",
    "def onnx_check_model(onnx_model):\n",
    "    try:\n",
    "        onnx.checker.check_model(onnx_model)\n",
    "    except onnx.checker.ValidationError as e:\n",
    "        print('The model is invalid: %s' % e)\n",
    "    else:\n",
    "        print('The model is valid!')\n",
    "\n",
    "model_onnx = onnx.load(\"model.onnx\")\n",
    "onnx_check_model(model_onnx)"
   ]
  },
  {
   "cell_type": "code",
   "execution_count": 95,
   "metadata": {},
   "outputs": [
    {
     "data": {
      "text/plain": [
       "[dims: 3\n",
       "dims: 4\n",
       "data_type: 1\n",
       "name: \"onnx::MatMul_4\"\n",
       "raw_data: \"X\\270\\206\\275\\301\\312y\\276\\345\\036\\254>\\320;\\235\\275.\\307v\\275<.$=\\033\\3673\\276~=\\007>iX\\351<\\367I\\327=\\356\\3701\\276\\0203\\347>\"\n",
       "]"
      ]
     },
     "execution_count": 95,
     "metadata": {},
     "output_type": "execute_result"
    }
   ],
   "source": [
    "model_onnx.graph.initializer"
   ]
  },
  {
   "cell_type": "code",
   "execution_count": 96,
   "metadata": {},
   "outputs": [
    {
     "data": {
      "text/plain": [
       "[input: \"input\"\n",
       "input: \"onnx::MatMul_4\"\n",
       "output: \"output\"\n",
       "name: \"MatMul_0\"\n",
       "op_type: \"MatMul\"\n",
       "]"
      ]
     },
     "execution_count": 96,
     "metadata": {},
     "output_type": "execute_result"
    }
   ],
   "source": [
    "model_onnx.graph.node"
   ]
  },
  {
   "cell_type": "code",
   "execution_count": 101,
   "metadata": {},
   "outputs": [
    {
     "name": "stdout",
     "output_type": "stream",
     "text": [
      "The autoreload extension is already loaded. To reload it, use:\n",
      "  %reload_ext autoreload\n"
     ]
    }
   ],
   "source": [
    "from converter.converter import parse_onnx_model, dump_onnx_model\n",
    "from converter.helpers import TYPEDEF\n",
    "\n",
    "%load_ext autoreload\n",
    "%autoreload 2\n",
    "\n",
    "ir = parse_onnx_model(model_onnx)\n",
    "dump_onnx_model(ir, \"ir.bin\")"
   ]
  },
  {
   "cell_type": "code",
   "execution_count": 99,
   "metadata": {},
   "outputs": [
    {
     "data": {
      "text/plain": [
       "OrderedDict([(0,\n",
       "              {'name': 'input',\n",
       "               'op_type': INPUT,\n",
       "               'inputs': [],\n",
       "               'outputs': [1],\n",
       "               'dims': [5, 3]}),\n",
       "             (1,\n",
       "              {'name': 'MatMul_0',\n",
       "               'op_type': LINEAR,\n",
       "               'initializer': {'weight': {'name': 'onnx::MatMul_4',\n",
       "                 'raw_data': b'X\\xb8\\x86\\xbd\\xc1\\xcay\\xbe\\xe5\\x1e\\xac>\\xd0;\\x9d\\xbd.\\xc7v\\xbd<.$=\\x1b\\xf73\\xbe~=\\x07>iX\\xe9<\\xf7I\\xd7=\\xee\\xf81\\xbe\\x103\\xe7>',\n",
       "                 'dims': [3, 4],\n",
       "                 'data_type': FLOAT},\n",
       "                'bias': {}},\n",
       "               'data_layout': None,\n",
       "               'inputs': [0],\n",
       "               'outputs': [2]})])"
      ]
     },
     "execution_count": 99,
     "metadata": {},
     "output_type": "execute_result"
    }
   ],
   "source": [
    "ir"
   ]
  },
  {
   "cell_type": "code",
   "execution_count": null,
   "metadata": {},
   "outputs": [],
   "source": []
  }
 ],
 "metadata": {
  "kernelspec": {
   "display_name": "Python 3.8.10 ('torchinfer-env': venv)",
   "language": "python",
   "name": "python3"
  },
  "language_info": {
   "codemirror_mode": {
    "name": "ipython",
    "version": 3
   },
   "file_extension": ".py",
   "mimetype": "text/x-python",
   "name": "python",
   "nbconvert_exporter": "python",
   "pygments_lexer": "ipython3",
   "version": "3.8.10"
  },
  "orig_nbformat": 4,
  "vscode": {
   "interpreter": {
    "hash": "8bd0c8d0c26ca6671a08d77814ef617b240994f0023ad3748be1965a15688631"
   }
  }
 },
 "nbformat": 4,
 "nbformat_minor": 2
}
