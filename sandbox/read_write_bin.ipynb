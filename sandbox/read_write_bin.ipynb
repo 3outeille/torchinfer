{
 "cells": [
  {
   "cell_type": "code",
   "execution_count": 1,
   "metadata": {},
   "outputs": [],
   "source": [
    "# read in cpp https://github.com/3outeille/cpp-experiments/blob/master/stl/map_of_files/read_files.cpp\n",
    "# read in python: https://qiita.com/madaikiteruyo/items/dadc99aa29f7eae0cdd0\n",
    "\n",
    "from tests.helpers import *"
   ]
  },
  {
   "cell_type": "code",
   "execution_count": 2,
   "metadata": {},
   "outputs": [
    {
     "name": "stdout",
     "output_type": "stream",
     "text": [
      "[[[[ 1  2  3  4  5]\n",
      "   [ 6  7  8  9 10]]]]\n"
     ]
    },
    {
     "data": {
      "text/plain": [
       "array([[[[ 1,  2,  3,  4,  5],\n",
       "         [ 6,  7,  8,  9, 10]]]])"
      ]
     },
     "execution_count": 2,
     "metadata": {},
     "output_type": "execute_result"
    }
   ],
   "source": [
    "\n",
    "x = np.arange(1, 11).reshape(1, 1, 2, 5)\n",
    "print(x)\n",
    "write_bin(\"array.bin\", x)\n",
    "read_bin(\"array.bin\")\n"
   ]
  }
 ],
 "metadata": {
  "kernelspec": {
   "display_name": "Python 3.8.10 ('torchinfer-env': venv)",
   "language": "python",
   "name": "python3"
  },
  "language_info": {
   "codemirror_mode": {
    "name": "ipython",
    "version": 3
   },
   "file_extension": ".py",
   "mimetype": "text/x-python",
   "name": "python",
   "nbconvert_exporter": "python",
   "pygments_lexer": "ipython3",
   "version": "3.8.10"
  },
  "orig_nbformat": 4,
  "vscode": {
   "interpreter": {
    "hash": "8bd0c8d0c26ca6671a08d77814ef617b240994f0023ad3748be1965a15688631"
   }
  }
 },
 "nbformat": 4,
 "nbformat_minor": 2
}
