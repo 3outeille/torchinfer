{
 "cells": [
  {
   "cell_type": "code",
   "execution_count": 2,
   "metadata": {},
   "outputs": [
    {
     "name": "stdout",
     "output_type": "stream",
     "text": [
      "[[ 1  2  3  4  5]\n",
      " [ 6  7  8  9 10]]\n"
     ]
    },
    {
     "data": {
      "text/plain": [
       "array([[ 1,  2,  3,  4,  5],\n",
       "       [ 6,  7,  8,  9, 10]])"
      ]
     },
     "execution_count": 2,
     "metadata": {},
     "output_type": "execute_result"
    }
   ],
   "source": [
    "import struct\n",
    "import numpy as np\n",
    "\n",
    "def write_bin(filename, array):\n",
    "    # Force endianess: https://stackoverflow.com/questions/23831422/what-endianness-does-python-use-to-write-into-files\n",
    "    dtype_to_format = {\n",
    "        np.int: 'i',\n",
    "        np.int8: 'i',\n",
    "        np.int16: 'i',\n",
    "        np.int32: 'i',\n",
    "        np.int64: 'i',\n",
    "        np.unsignedinteger: 'I',\n",
    "        np.float: 'f',\n",
    "        np.float16: 'f',\n",
    "        np.float32: 'f',\n",
    "        np.float64: 'f',\n",
    "        np.double: 'd'\n",
    "    }\n",
    "    fmt = dtype_to_format[array.dtype.type]\n",
    "    row, col = array.shape\n",
    "    with open(filename, \"wb\") as f:\n",
    "        f.write(struct.pack('i', row))\n",
    "        f.write(struct.pack('i', col))\n",
    "        f.write(struct.pack('c', bytes(fmt, 'utf-8')))\n",
    "        f.write(struct.pack(f\"{fmt}\"*(row * col), *x.flatten(order=\"C\").tolist()))\n",
    "\n",
    "def read_bin(filename):\n",
    "    # https://qiita.com/madaikiteruyo/items/dadc99aa29f7eae0cdd0\n",
    "    format_to_byte = {\n",
    "        'c': 1,\n",
    "        'i': 4,\n",
    "        'I': 4,\n",
    "        'f': 4,\n",
    "        'd': 8\n",
    "    }\n",
    "\n",
    "    data = []\n",
    "    dims, fmt = None, None\n",
    "    with open(filename, \"rb\") as f:\n",
    "        # read row and col (np.int = 4 bytes)\n",
    "        byte = f.read(2 * format_to_byte['i'])\n",
    "        if byte == b'':\n",
    "            raise Exception(\"read_bin: Empty binary\")\n",
    "        else:\n",
    "            dims = struct.unpack('ii', byte)\n",
    "        \n",
    "        if len(dims) != 2: raise Exception(\"read_bin: No dimensions (row, col) dumped in binary\")\n",
    "\n",
    "        # Read character format\n",
    "        byte = f.read(1)\n",
    "        if byte == b'':\n",
    "            raise Exception(\"read_bin: Empty binary\")\n",
    "        else:\n",
    "            fmt = chr(struct.unpack('c', byte)[0][0])\n",
    "\n",
    "        if len(fmt) != 1: raise Exception(\"read_bin: No format dumped in binary\")\n",
    "        \n",
    "        while True:\n",
    "            byte = f.read(format_to_byte[fmt])\n",
    "            if byte == b'':\n",
    "                break\n",
    "            else:\n",
    "                data.append(struct.unpack(fmt, byte)[0])\n",
    "        \n",
    "    return np.array(data).reshape(dims[0], dims[1])\n",
    "\n",
    "x = np.arange(1, 11).reshape(2, 5)\n",
    "print(x)\n",
    "write_bin(\"array.bin\", x)\n",
    "read_bin(\"array.bin\")\n"
   ]
  },
  {
   "cell_type": "code",
   "execution_count": 33,
   "metadata": {},
   "outputs": [],
   "source": [
    "# read in cpp https://github.com/3outeille/cpp-experiments/blob/master/stl/map_of_files/read_files.cpp\n",
    "# read in python: https://qiita.com/madaikiteruyo/items/dadc99aa29f7eae0cdd0"
   ]
  }
 ],
 "metadata": {
  "kernelspec": {
   "display_name": "Python 3.8.10 ('torchinfer-env': venv)",
   "language": "python",
   "name": "python3"
  },
  "language_info": {
   "codemirror_mode": {
    "name": "ipython",
    "version": 3
   },
   "file_extension": ".py",
   "mimetype": "text/x-python",
   "name": "python",
   "nbconvert_exporter": "python",
   "pygments_lexer": "ipython3",
   "version": "3.8.10"
  },
  "orig_nbformat": 4,
  "vscode": {
   "interpreter": {
    "hash": "8bd0c8d0c26ca6671a08d77814ef617b240994f0023ad3748be1965a15688631"
   }
  }
 },
 "nbformat": 4,
 "nbformat_minor": 2
}
