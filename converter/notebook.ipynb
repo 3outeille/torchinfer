{
 "cells": [
  {
   "cell_type": "code",
   "execution_count": 135,
   "metadata": {},
   "outputs": [],
   "source": [
    "import torch\n",
    "import torch.nn as nn\n",
    "import torch.nn.functional as F\n",
    "import torchinfo\n",
    "import onnx\n",
    "import torch.onnx"
   ]
  },
  {
   "cell_type": "code",
   "execution_count": 136,
   "metadata": {},
   "outputs": [],
   "source": [
    "class SimpleNet(nn.Module):\n",
    "    def __init__(self, num_classes=10, init_weights=True):\n",
    "        super(SimpleNet, self).__init__()\n",
    "        self.conv1 = nn.Conv2d(in_channels=1, out_channels=3, kernel_size=4, stride=2)\n",
    "        self.conv2 = nn.Conv2d(in_channels=3, out_channels=5, kernel_size=4, stride=2)\n",
    "        self.conv3 = nn.Conv2d(in_channels=5, out_channels=5, kernel_size=4, stride=2)\n",
    "\n",
    "        self.linear1 = nn.Linear(in_features=5 * 2 * 2, out_features=10)\n",
    "        self.linear2 = nn.Linear(in_features=10, out_features=num_classes)\n",
    "\n",
    "    def forward(self, x):\n",
    "        x = self.conv1(x)\n",
    "        x = F.relu(x)\n",
    "        x = self.conv2(x)\n",
    "        x = F.relu(x)\n",
    "        x = self.conv3(x)\n",
    "        x = F.relu(x)\n",
    "        x = torch.flatten(x, start_dim=1)\n",
    "        x = self.linear1(x)\n",
    "        x = F.relu(x)\n",
    "        x = self.linear2(x)\n",
    "        return x"
   ]
  },
  {
   "cell_type": "code",
   "execution_count": 137,
   "metadata": {},
   "outputs": [
    {
     "data": {
      "text/plain": [
       "==========================================================================================\n",
       "Layer (type:depth-idx)                   Output Shape              Param #\n",
       "==========================================================================================\n",
       "SimpleNet                                [16, 10]                  --\n",
       "├─Conv2d: 1-1                            [16, 3, 15, 15]           51\n",
       "├─Conv2d: 1-2                            [16, 5, 6, 6]             245\n",
       "├─Conv2d: 1-3                            [16, 5, 2, 2]             405\n",
       "├─Linear: 1-4                            [16, 10]                  210\n",
       "├─Linear: 1-5                            [16, 10]                  110\n",
       "==========================================================================================\n",
       "Total params: 1,021\n",
       "Trainable params: 1,021\n",
       "Non-trainable params: 0\n",
       "Total mult-adds (M): 0.36\n",
       "==========================================================================================\n",
       "Input size (MB): 0.07\n",
       "Forward/backward pass size (MB): 0.11\n",
       "Params size (MB): 0.00\n",
       "Estimated Total Size (MB): 0.18\n",
       "=========================================================================================="
      ]
     },
     "execution_count": 137,
     "metadata": {},
     "output_type": "execute_result"
    }
   ],
   "source": [
    "model = SimpleNet()\n",
    "    \n",
    "torchinfo.summary(model, input_size=(16, 1, 32, 32))"
   ]
  },
  {
   "cell_type": "code",
   "execution_count": 138,
   "metadata": {},
   "outputs": [],
   "source": [
    "x = torch.randn(16, 1, 32, 32, requires_grad=True)\n",
    "model = model.cpu()\n",
    "x = x.cpu()\n",
    "\n",
    "# Export the model\n",
    "torch.onnx.export(model,                     # model being run\n",
    "                  x,                         # model input (or a tuple for multiple inputs)\n",
    "                  \"model.onnx\",              # where to save the model (can be a file or file-like object)\n",
    "                  export_params=True,        # store the trained parameter weights inside the model file\n",
    "                  opset_version=13,          # the ONNX version to export the model to\n",
    "                  do_constant_folding=True,  # whether to execute constant folding for optimization\n",
    "                  input_names = ['input'],   # the model's input names\n",
    "                  output_names = ['output'], # the model's output names\n",
    "                  dynamic_axes={'input' : {0 : 'batch_size'},    # variable length axes\n",
    "                                'output' : {0 : 'batch_size'}})"
   ]
  },
  {
   "cell_type": "code",
   "execution_count": 139,
   "metadata": {},
   "outputs": [
    {
     "name": "stdout",
     "output_type": "stream",
     "text": [
      "The model is valid!\n"
     ]
    }
   ],
   "source": [
    "def onnx_check_model(onnx_model):\n",
    "    try:\n",
    "        onnx.checker.check_model(onnx_model)\n",
    "    except onnx.checker.ValidationError as e:\n",
    "        print('The model is invalid: %s' % e)\n",
    "    else:\n",
    "        print('The model is valid!')\n",
    "\n",
    "model_onnx = onnx.load(\"model.onnx\")\n",
    "onnx_check_model(model_onnx)"
   ]
  },
  {
   "cell_type": "code",
   "execution_count": 140,
   "metadata": {},
   "outputs": [
    {
     "name": "stdout",
     "output_type": "stream",
     "text": [
      "[3, 1, 4, 4]\n",
      "[3]\n",
      "[5, 3, 4, 4]\n",
      "[5]\n"
     ]
    }
   ],
   "source": [
    "print(model_onnx.graph.initializer[0].dims)\n",
    "print(model_onnx.graph.initializer[1].dims)\n",
    "print(model_onnx.graph.initializer[2].dims)\n",
    "print(model_onnx.graph.initializer[3].dims)"
   ]
  },
  {
   "cell_type": "code",
   "execution_count": 143,
   "metadata": {},
   "outputs": [
    {
     "name": "stdout",
     "output_type": "stream",
     "text": [
      "The autoreload extension is already loaded. To reload it, use:\n",
      "  %reload_ext autoreload\n"
     ]
    }
   ],
   "source": [
    "from converter import parse_onnx_model\n",
    "\n",
    "%load_ext autoreload\n",
    "%autoreload 2"
   ]
  },
  {
   "cell_type": "code",
   "execution_count": 144,
   "metadata": {},
   "outputs": [
    {
     "data": {
      "text/plain": [
       "OrderedDict([('input_nodes', ['input']),\n",
       "             ('Conv_0',\n",
       "              {'op_type': CONV2D,\n",
       "               'initializer': {'weight': {'name': 'conv1.weight',\n",
       "                 'raw_data': b'\\xb0\\xfeE= \\xfa*\\xbc\\xb6\\xf4)\\xbe\\xc0\\xf3\\xb0\\xbc\\xfc8Z\\xbeT\\xe3\\xaf=\\xec*\\x8b\\xbd\\xb4\\xb4\\x12>\\x04\\x19\\x1e\\xbe\\xd6\\x0f\\x04>$\\x9f]>\\x08\\x04\\x16\\xbd\\x082\\xaa\\xbd&\\xefN\\xbe\\xc0\\xf3\\x8b;\\xb4\\x9d\\xe8=\\x00\\xf4\\xab\\xbb,\\x8eI>*Y>>\\xf4\\xae\\xe4\\xbd\\xa8`\\x93\\xbd\\x04\\xc8\\x87\\xbd@\\xf4\\xe7<:\\'\\x04>\\x98\\x8a\\xa6\\xbd<Ss>P\\xa6\\xac\\xbdn\\rS>~\\x0f\\x1e\\xbe\\x00z\\xc2\\xbd\\xf6M%>f\\xcbO>\"?\\x01>0\\xb1\\x9e\\xbcD3\\xcb=\\x00\\xd8G>DD\\xa9=\\xd8\\xf0\\xaf\\xbd\\xc0\\xbdM\\xbd\\xf8\\x8d\\xb8\\xbdf\\xedr\\xbe\\xb4\\x80\\xd5=\\xd6\\xfe\\x07>\\x10*B>b&\\r\\xbe\\xd8;5\\xbd\\x00\\xd5\\xe4\\xbcpx\\xc2<',\n",
       "                 'dims': [3, 1, 4, 4],\n",
       "                 'data_type': FLOAT},\n",
       "                'bias': {'name': 'conv1.bias',\n",
       "                 'raw_data': b'l\\x98\\x0f>\\xc8\\xde\\xa0=\\xc0\\x81U\\xbd',\n",
       "                 'dims': [3],\n",
       "                 'data_type': FLOAT}},\n",
       "               'attributes': None,\n",
       "               'data_layout': None,\n",
       "               'outputs': ['Relu_1'],\n",
       "               'inputs': ['input']}),\n",
       "             ('Relu_1',\n",
       "              {'op_type': RELU,\n",
       "               'initializer': {'weight': {}, 'bias': {}},\n",
       "               'attributes': None,\n",
       "               'data_layout': None,\n",
       "               'inputs': ['Conv_0'],\n",
       "               'outputs': ['Conv_2']}),\n",
       "             ('Conv_2',\n",
       "              {'op_type': CONV2D,\n",
       "               'initializer': {'weight': {'name': 'conv2.weight',\n",
       "                 'raw_data': b'`\\x90N;F\\xf8v\\xbdO\\xfc\\xbb\\xbd\\xf5v\\x05=\\x8b\\xde?\\xbd\\x8e,\\x06\\xbe2\\x86\\x0c>/d\\xc3<\\xc9\\x1c\\xbe\\xbd\\x13\\xbb\\x00>\\xa6?\\x14\\xbd_\\x84y\\xbc\\x9c\\xed\\xc0\\xbcye\\xf5\\xbd\\xbc\\x12Q=\\x0e\\xa5\\x1e\\xbd\\x94\\xed\\xb1\\xbc\\xd3\\x06\\xab\\xbd\\xc8&\\xa2\\xbd\\x9eUS<\\xd9W\\xe4\\xbcv?\\xee=2\\x91\\xa5\\xbd\\xe7\\x8f\\xa0\\xbd\\xad\\xeb\\xbe\\xbd\\x96\\\\]=EZ\\x82:\\x11-\\xc4\\xbdht\\xf9\\xbdp\\xd9\\xa7=3\\x1c\\x02>\\xe76\\x8a=\\x7f>\\xee=\\x9b\\x03\\x0b>J\\xf7\\x11>\\xb9\\xc2\\x91<\\xc9\\x7fs\\xbcw\\x03\\x80=M\\xbb\\x07>\\x15D\\xd9\\xbdx-~\\xbc\\x80[\\xfc\\xbd\\x00\\xe5\\xbd=\\xb1C\\x92=\\xe8K\\x06>\\x9b\\xd8\\xbd\\xbdj\\x10-\\xbb\\xe0\\xd5\\xd0<\\xeb\\xe5l=\\xca\\\\\\x13<[\\x1f\\x95=\\x1b\\xac\\xe6<\\x1a\\xe9+\\xba3\\x00\\xa4=%\\x0e\\xe1\\xbc\\x84\\x96\\r\\xbe,F\\xed=hX\\xcc=.\\xba\\x06>\\xa3T1=\\xac\\x16\\xe6\\xbd\\xad\\xb7\\xb9\\xbc\\xe3\\xd6\\xa8\\xbd~m\\xdc;\\xca\\x9aS=\\xb2\\x8b\\xb5=\\x07\\x8c\\x0e>\\xf1B\\xf5=H\\x8d\\'=\\xa4wQ=\\xa0h\\xd3=S\\xd3\\xa1\\xbd^~\\xbe\\xbd=a\\x00\\xbe\\xa3Hb=\\xa5\\xa0\\x14\\xbd\\x7fl\\n\\xben\\x93\\x86=\\x0b\\x11\\r\\xbeR\\xbc\\x01>\\xdf\\xb5U=\\xd2\\xf8\\x7f\\xbc\\xdd\\x99\\x0f\\xbe\\xa2x\\xb3=l\\xdf\\xc7=\\x1e\\xfa\\xe2\\xbb\\x81\\x07z=\\xed\\xf7\\x08>}\\x8c\\xc0=%\\x95\\x87<\\xf1\\xf3\\xcc=%\\xf4\\xa0\\xbd\\xa6\\xe6x\\xbdYF\\x17;q\\x14\\x18=cN\\x02\\xbe\\xbfG\\xa8\\xbdM\\xcf\\x92\\xbc\\xd6a\\xd0=\\xe4Zt<B\\xd7\\x05>\\xe3\\xab\\x03>\\xbf\\xa8\\xed\\xbd_m\\x0f\\xbe\\xd8\\x0c\\xef\\xbd\\x19\\xf9\\xb9\\xbc\\xab}\\x90\\xbd\\x05j\\xc5\\xbd\\x15 \\xce\\xbc*\\x12\\x9f\\xbd\\x03\\xaf\\xe7=\\xd8l\\xde\\xbc\\xe5\\x94\\x07>6%\\xae\\xbd\\xa7\\x8a\\xc9<a[u=\\x03\\xb45\\xbd\\xc7\\xfb\\x97;\\xca\\xd5\\xac\\xbd<uF<\\xed\\xd2\\x0f\\xbd\\x08\\xed\\x00\\xbeB?\\x8d\\xbd0\\xd8\\x89=\\x87\\xb5\\xde=LO\\x02\\xba\\xc7\\xd31\\xbb\\xfc\\x03\\x16\\xbd\\x89\\xf0_=.\\xd9\\x9f=\\xd2*\\xc5\\xbd\\x04s,<\\xa6\\xe9\\xe9<b\\xa3\\xbe\\xbd\\x99\\\\\\xe9=\\xd7U\\x13\\xbd\\xc8\\x90\\\\<\\xb0\\xa9\\xe3\\xbdw\\x04\\xc9\\xbdnv\\x9a\\xbb:\\xb1\\x0f>\\rS\\x02>YgN\\xbd\\x84\\x1f+\\xbd\\xa3\\xa4\\xbe\\xbd\\xf7\\x08\\xf0=F\\x8f\\xfb\\xbc=&\\x9f<\\x93\\xcd\\xca\\xbc\\x14(\\x07\\xbe\\x9c\\xf7\\xbb\\xbd5\\xa0s\\xbd\\xfe\\x9c\\xc5\\xbd\\x11b\\xa4\\xbd\\xc8p\\x02>.\\x19\\x98=\\xc0\\x1cU=\\xe9E^\\xbd /\\xf0=\\xf2\\xc2\\x0c>\\xb8\\xd0\\xe0=\\xcc)\\r<\\xc8\\xad\\xbd=\\xc9)\\xf0\\xbdJO\\x8f=8_W\\xbd\\xa6u\\xf5\\xbb\\xb7\\xfd\\x85=/\\xbe}=\\xe1G\\xc8<o\\x95;=\\xc8y\\xdd\\xbc\\x8fTs<*\\xed\\xa5=\\xc6#w\\xbb\\xcaP_=~}\\xef\\xbdp\\xf1^=\\xfb\\x8f\\x11\\xbe\\x85\\xc3\\x85=\\x14&\\xbc=V\\xf6\\x08\\xbdw\\xe4\\xc3\\xbc\\xc4\\xbc\\xd4\\xbdF7\\xf1=6&w=\\x99\\xa5\\n>t\\xc3\\xa9=\\xecY\\x18\\xbd\\to\\xd1\\xbd\"\\xa9\\xf5=\\xd6\\xb8Z\\xbd\\xde\\x94\\xf4=\\xfeh\\xea<\\x06\\xc5\\x1e\\xbd\\rG\\xe7\\xbd\\xd8\\xae\\xfb=\\xe2\\xe8u=\\xa57\\xe8=\\x92\\x87\\xc1\\xbdV\\xe8\\xb8<\\x10$\\xd1=\\xfe\\xea\\x11>?\\xd0\\x83\\xbc\\xc4\\xcd\\x9c=-\\x1f\\xf0=L)\\n>\\x84\\x90\\x93=o\\xe7\\xec\\xbc\\x04M\\xcf=\\x8c\\x1cN<\\xc5u:\\xbd\\x94\\xf1\\x0f\\xbew\\x18\\x02>\\x034\\x9d\\xbd\\xb7\\xf7\\x94<\\x91\\x11\\x0c\\xbeZG(\\xbd\\xd1\\x8d\\xd0<\\xfc\\xd7\\xbd\\xbd\\xb0\\x9e\\x13>\\x16\\x80\\x82<:\\xd9\\xad<\\xc4\\x02\\x06=\\x97\\xb2\\x95=\\xbej\\xde=\\xc5-\\x91\\xbb\\xa2\\xcb\\x8b\\xbdg\\x96\\x1e\\xbd\\x80\\xc3\\xe8=d\\x15\\x90<\\x88}\\xa9<\\xd8\\xcct\\xbdW\\xf72\\xbc\\xe7\\xc6\\xed\\xbc\\xcc\\xb3\\xae\\xbd\\xcc\\xfd\\xad\\xbd=4\\xd1\\xbd;[\\xd5\\xbd\\xaf]\\x8d\\xbc',\n",
       "                 'dims': [5, 3, 4, 4],\n",
       "                 'data_type': FLOAT},\n",
       "                'bias': {'name': 'conv2.bias',\n",
       "                 'raw_data': b\"\\xb6'\\xc9=V]\\xde=\\x81\\xb6\\x88\\xbd\\x9e\\xae\\x90=t\\xa0\\x82\\xbc\",\n",
       "                 'dims': [5],\n",
       "                 'data_type': FLOAT}},\n",
       "               'attributes': None,\n",
       "               'data_layout': None,\n",
       "               'inputs': ['Relu_1'],\n",
       "               'outputs': ['Relu_3']}),\n",
       "             ('Relu_3',\n",
       "              {'op_type': RELU,\n",
       "               'initializer': {'weight': {}, 'bias': {}},\n",
       "               'attributes': None,\n",
       "               'data_layout': None,\n",
       "               'inputs': ['Conv_2'],\n",
       "               'outputs': ['Conv_4']}),\n",
       "             ('Conv_4',\n",
       "              {'op_type': CONV2D,\n",
       "               'initializer': {'weight': {'name': 'conv3.weight',\n",
       "                 'raw_data': b'(\\x91,<\\x95Ma\\xbb&\\x1fz=\\xbf\\xaa\\xb4\\xbd\\x9bL\\xa7=\\xde\\x0b9=\\x926\\x0f;\\xaf\\\\\\xbf\\xbd\\xba\\x834=\\xd1:\\xf8<\\x99;+\\xbc\\xc8\\x9f\\x81=\\x9c$q=\\'\\xd3k\\xbaJ\\x99\\xab<\\xd8\\x8f\\x8f\\xbcHNo\\xbd\\x0cf\\xa4\\xbd\\xac\\xcc\\x0b=F\\x02<\\xbd{\\xb4m=\\xf9\\x88\\xcf\\xba\\x07\\xb7a=\\x85\\x88,\\xbd\\'\\xe5M\\xbdnm\\x8e=J\\x03\\x9f\\xbd\\xbaN_\\xbd\\x11\\\\\\x90=\\xc0UD\\xbd$}\\xe7\\xbc\\\\v\\xc0\\xbc\\xbf\\x81\\xb6:\\xae\\x86\\xeb\\xba\\xd3\\xe8\\xcb\\xbd\\xb0\\xa1q\\xbb\\xd2\\xcc\\xd3\\xbd\\xadC\\x14\\xbd\\xc3\\xcb\\x02\\xbd,\\xf3\\x8a=\\xee\\xbeT\\xbdt\\x88=\\xbd\\xc7M\\x94<\\x03\\xbe\\n=\\xdf\\xec\\x19\\xbd\\x8e\\x88\\xce\\xbc\\x87\\x8c\\xaf\\xbd\\x06u\\xff\\xbcz\\x9aJ\\xbd:\\x81\\x1e\\xbd\\xc0\\xaf\\xe2\\xbd%[/\\xbd\\x8f:\\xe7<(\\x12\\xa1\\xbc\\xa5\\x83\\xcf\\xbd\\xb7%E=\\xd7-G\\xbdK\\xb3\\x0b=KO\\xe3=~\\x99\\xc0\\xbco\\xdf\\x8b\\xbdX\\xee\\xde\\xbdb\\x81\\xac=\\xa5\\x89\\xc4=\\xab\\x06\\x80\\xbd\\x18>\\xcb=\\xc7J=<JO\\x8e\\xbd\\xf5F\\xb9\\xbdk\\xa3\\xc4\\xbd\\xd5\\x19\\x05=t\\xf6\\x94\\xbd\\x16\\x1c==\\xb7Q?=\\xf0Ft\\xbc\\x9a{\\xf6\\xbc4\\x80\\xa3=6\\x08\\r\\xbd\\x10\\xfa0\\xbdfu`=\\xb2\\xab,\\xbd]\\xa7\\xd3=\\xef<G\\xbb\\xe1\\xab\\xcb\\xbd\\xbaR$\\xbd:\\xb0S<\\x96\\x89\\x8f=\\xc4\\\\\\x10\\xbdg\\x7f\\x93\\xbd\\xf8\\x80I\\xbc\\xf8c)\\xbd\\xf7\\xc1\\xec\\xb9L\\xf5\\xac\\xbd|}\\x90;:\\xc7\\x7f<\\x06t7<\\xadnw=\\x1a\\xec\\xb7\\xbb\\x8e\\xacV\\xbd\\x83\\x04\\xb7\\xbd\\xeac\\xb1\\xbc\\x9f\\x83\\xbf\\xbd\\xcco\\xb4\\xba~\\x04q\\xbcB\\xbd\\n\\xbb\\xc0\\xde\\xdf\\xbd\\xe7\\x13\\xad\\xbd\\\\G\\x8b\\xbc\\x0f\\x9a\\x85\\xbc\\xe5w\\xd6=\\xa9\\x80\\x8a<yB\\r\\xbcE+\\xa5=\\x88\\x19\\xaa\\xbdN\\xb4\\xbc\\xbdz[\\x9a=S\\xbc\\xb6=\\x8b\\xbd\\x83=<\\xbc\\t\\xbdN\\x0c\\xa3\\xbd!\\r\\x0c=\\xd8s\\xd0<$b\\xf7\\xbc\\xdd\\xd7\\xd5\\xbcJ\\xb23\\xbc\\xf4\\xfa\\xae<\\xfb\\xde\\xdb=YL\\xc6=p-\\xcd=^\\xcc\\x80\\xbdo\\x87.\\xbc\\xb9\\x9d\\x8f=\\x87[\\xcc\\xbd\\x08\\xd0B\\xbc\\x91\\xaf\\x15=\\xcb\\x04\\xc2=\\x88{\\xb1<\\x8a\\xf8N\\xbds\\xbbl\\xbdI\\xc6~\\xbd\\x89!\\xd2=\\xa4\\x832<\\x1c\\x8e\\r<%\\x8b\\xbf\\xbd\\x10\\x13\\xcf=\\x97-\\xb9\\xbc\\x85n\\x87=l\\xff\\xa5\\xbdw\\x7f\\xc8\\xbd{\\xaa\\xe3=\\x86u`\\xbcN\\x84\\xbe<0\\xbbF\\xbc\\xa1\\\\8<Br&= \\xeb\\xcb\\xbd/\\xadV\\xbb\\x9b\\xa5k=q\\xc7\\xe1=r2\\x86\\xbd\\xc4\\x9b\\xf1\\xbcw0\\xaa\\xbd+\\x1a\\xf8<\\xbb\\xa5&=z\\xb4\\xc5=&\\x17\\xa7\\xbd\\xf1\\x86R\\xbda\\xb0k<bT\\xbb\\xbd+\\x9aR=q}]=6h\\x00;\\x808\\x98\\xbd\\xf7\\xaf\\x01<\\xb9\\xcdI\\xbc~#\\x82\\xbd\\x12\\xa2\\xaf\\xbb\\xd7\\xf6\\x9d=\\xbd\\xaa@<\\xdbv==\\xc7TG\\xbd\\xb76|=-\\xbd\\xa7=-\\xa5\\x8e\\xbd\\xd2\\x18\\xca\\xbd$\\xe3\\xec</\\xa6\\xde<ZM\\xaf<\\xbb\\xa9^<\\x8axm\\xbcw\\x991\\xbc\\xaa\\xc4\\x8a<w\\xa1\\xd3<{\"P<\\xb6\\x14\\x8a\\xbdJ\\x1d\\x87\\xbc)\\x8fz\\xbdM\\t\\x92=\\t\\xb4\\x0b=\\x82W3\\xbc\\x17e\\x85=\\xd3]\\x95<\\xed\\xf9X\\xbd\\x00\\x84\\xdf\\xbd\\xa0\\xf7j<\\xf3\\xe1\\xc3;\\x1f\\x88u=\\xfb\\x9c\\xbd\\xbcus\\x8a=\\xf7Ft\\xbd\\x8c\\xf3\\xcc=\\xb7V\\xc2=*\\x98?=\"\\xb8\\xa1\\xbd\\x04\\x01\\x0e\\xbd}\\x06\\xbe=\\xcc\\xdc]\\xbcA\\xffS\\xbd\\xc7\\xb2v\\xbd8\\xe6|\\xb8\\r\\xdc\\x82=\\x05\\x91\\xc4=\\x9d\\xaa)\\xbd)!z;\\x11\\xb09=\\xfab\\x96\\xbd\\xfd\\x04\\xfb\\xbc\\xcb2\\xac\\xbc\\x96%\\xb2=\\xc3\\x9fD\\xbd\\xd5E\\xb9\\xbd\\x8e\\xb9\\xd0<\\x08\\x83\\xb2=5\\xb2\\x86<(\\xd2\\x99=\\xb0\\x05G=\\xd4\\x0e\\xa4=\\xd8\\x97\\x02=f\\xe7\\xd6=v\\xcf\\x80\\xbd\\xaa\\x82\\xf2<\\xdbQ\\xc4\\xbd\\xd2\\xdc\\x9e;\\xb4F\\xc8=\\x80\\xd9\\xfd;\\xe2L\\xfe;Js\\x1b=\\n\\x9d\\x87\\xbd\\x88\\x1f\\xc8=\\xf2b\\x99=\\x17\\xd5:=,\\xec\\xcc=\\x8a\\xbc\\xbe=[K\\xca=\\xb8.U=\\xc6\\xc4\\t=\\xa93\\xbb\\xbd5\\x90[\\xbcX\\x19\\xa3=J\\x18\\n<;\\xe1\\xcc=i\\x88\\x8f\\xbc9\\x7f\\xfe\\xbc\\xea\\xca\\x04\\xbd\\x92N\\xb0\\xbd\\x90-\\x87=\\xca\\xf7w=\\x0cE\\x9e\\xbc}\\xa5\\x84<Qr\\xd9\\xbdK\\x86}\\xbd\\xe6Z\\xe7<{`\\x8a=o\\xdem=!X\\x94\\xbd\\x0ee\\xfc\\xbc\\xba]\\x0e<\\xb5P\\xaf\\xbd\\xae\\x8b\\x83=\\\\\\xff\\xbb=\\x10\\xc9\\x01=\\xf1\\xcdU=]\\x13\\x9d=_\\xe3\\x0c=\\xc3\\xa2\\x9e=\\xe8\\x92\\xd3\\xbd*\\xb7\\x9d=\\xe5\\xb4\\x87:\\x1c_\\x85\\xbc\\xc7=\\xb3\\xbdc\\x04\\xca=\\x0b\\x85\\x85=\\xbc\\xa2\\xc9\\xbc\\xc0\\x02L=\\xb3\\xe9\\xcc\\xbdr7\\x88=ge\\x94=\\x812\\xd7\\xbdk\\x0c\\xc8\\xbd\\xf4V\\\\\\xbd \\xe5\\\\\\xbd$\\xba\\n=\\x88\\xe3\\x81=Is\\xa1=Ny\\x98=\\x91T\\x9a=\\xc6{J=\\xca\\xf2\\xcb<\\xb3@\\xb3\\xbclw\\x83=bu\\xaa=\\x03\\xfb\\x11\\xbcV\\xf9m=\\xcbMq=.\\xc3\\x88=t=\\xd19\\x17K\\xb8=\\xd1\\xb4\\xe3\\xbd\\xcf\\xbcG=\\x96n\\xae\\xbc\\xe9l\\x82<<m8\\xbd\\x93}o<`\\xcc\\xe1\\xbd\\xe4\\xf7\\x0f=}\\xda\\xa6\\xbc\\xf7\\xf5\\x98<I\\\\\\xaa\\xbd\\x0e\\x05\\x9e\\xbd\\r\\xdd!=\\xc0\\x8d\\xd8=\\xa4\\x82\\xf3<\\x03\\xf3\\xab\\xbd\\xbe\\x87\\xd6=\\xf5>\\x10=\\xa6,\\x01<\\xf07\\xea\\xbc\\x89\\xd5\\x88=\\xad\\xb2\\xcb=o\\x8d\\x8b;<\\xbb\\xc2\\xbbj\\x07\\xb8\\xbd\"\\xd5S\\xbdEJ_=\\xfcx!\\xbd\\xdc#\\x02\\xbdw\\xc4\\xa8=I\\xdc\\x0c=\\xd2\\x88\\xa8<\\xd2\\xd0u=\\x7f\\xc2\\xd6\\xbd\\xb6;C=\\x81\\xa8}=6\\xfb\\xa2=\\x0e\\xa0D=}\\xfd\\xb8\\xbc\\x9c\\xd9\\xb6=~ t=}\\xa3\\x88=&\\xa5e=\\xa9\\x11\\xa2=\\x800\\xbb\\xbc\\x1c\\xd0^=f5{\\xbd?\\xb3\\x94\\xbd\\x04\\x7f\\x05=Bw\\xcd=\\xf2\\xcd\\xaa=\\xa8 -\\xbb\\x06\\x05\\x1c=\\xa2|\\xbe=9\\x87\\xc9=!a\\xba\\xbd5\\x1a\\xee\\xbb2z;\\xbd6\\x05><\\xdf\\xa5\\xbe\\xbd?\\x83\\xd0=?\\xf1\\xa1\\xbdr\\xbd\\xb1=?\\xd0\\\\\\xbdP&\\x94<\\xfd\\x89\\xdf=L\\x8c\\xa2=\\xd5\\xd0\\x8f\\xbccs\\x1c=\\x02\\xc5\\x80\\xba=\\x87\\x97\\xbd\\xc5\\x8d9=\\xc7\\xe0\\x8b=00\\x12=\\xae\\x80\\xd2\\xbc)\\xf7\\xef\\xbcm\\x03\\x13<\\x8f\\xa4\\x90=k*\\xc0\\xbc\\x97\\x97\\x95\\xbd\\xe9\\xfc\\xc9=L\\x81\\x1e=1\\x19\\xdb=',\n",
       "                 'dims': [5, 5, 4, 4],\n",
       "                 'data_type': FLOAT},\n",
       "                'bias': {'name': 'conv3.bias',\n",
       "                 'raw_data': b'E\\xdb\\x96\\xbc$\\xf9\\xc6\\xbd\\xa1;T=\\xd7\\xceh=/\\x115\\xbc',\n",
       "                 'dims': [5],\n",
       "                 'data_type': FLOAT}},\n",
       "               'attributes': None,\n",
       "               'data_layout': None,\n",
       "               'inputs': ['Relu_3'],\n",
       "               'outputs': ['Relu_5']}),\n",
       "             ('Relu_5',\n",
       "              {'op_type': RELU,\n",
       "               'initializer': {'weight': {}, 'bias': {}},\n",
       "               'attributes': None,\n",
       "               'data_layout': None,\n",
       "               'inputs': ['Conv_4'],\n",
       "               'outputs': ['Flatten_6']}),\n",
       "             ('Flatten_6',\n",
       "              {'op_type': FLATTEN,\n",
       "               'initializer': {'weight': {}, 'bias': {}},\n",
       "               'attributes': None,\n",
       "               'data_layout': None,\n",
       "               'inputs': ['Relu_5'],\n",
       "               'outputs': ['Gemm_7']}),\n",
       "             ('Gemm_7',\n",
       "              {'op_type': LINEAR,\n",
       "               'initializer': {'weight': {'name': 'linear1.weight',\n",
       "                 'raw_data': b'\\xcc>2>\\xffq\\x89\\xbd\\xc1\\xe1\\x15>uT\\xdf\\xbbK\\xca2\\xbe\\xc0\\x0fV>:\\xb2&\\xbekV!>\\xe6\\xb0\\xb5<\\x8b\\xc4\\x86\\xbd\\xd4\\xf2\\x04\\xbe\\x81\\xddp=\\xec\\xeb\\x0e>\\x03\\x05\\n>\\xcaF\\xe8\\xbd\\xfaQ\\x0c>4\\x81Z\\xbe\\xfd\\xe4\\xa9\\xbd\\xb3\\xda\\xd4=.\\x16\\xc6=i\\xf9\\x01\\xbe\\x9a\\xb2=>/\\xc0?>G\\xf0\\x91=FY\\x17>d\\xaaT\\xbe\\xfd~\\xf1={\\x1e\\x12>\\xa9=(\\xbdI\\xb2\\xa8\\xbd4\\xd6\\x00>\\xaf\\xa76\\xbe\\xcaj\\xb1=\\x014c\\xbe\\x10X\\x93=\\xeb\\x83\\xb2=8$\\x96\\xba]\\xef\\x06=\\xfb\\x9f\\xff=G\\x92\\xb5=W\\xe5*\\xbd\\x82\\xd9b\\xbd\\x92\\xf60>\\xaa\\x14j=\\xc8\\xf0\\x02<\\x98PU\\xbe^\\x06\\x0f>\\xd1l\\x1b<\\'\\x14!>\\x1e90:\\x16e9>\\t\\xdf\\xdf\\xbcR\\xab\\x8f=\\xaf\\xfdf=\\xa7hT\\xbe\\xe2)\\xcd\\xbd\\xa2\\xecf\\xbdn\\x10\\xe2\\xbd\\xbf\\xfdj=\\xf9H\\xd1\\xbc\\xd5\\xb5N\\xbe@\\x14V\\xbe\\n\\xc5\\xb7=\\x9ah\\\\=;\\xbc\\x06>\\x87 \\x14\\xbd\\xa0\\xe3\\xff\\xbc\\x1f\\xac\\'\\xbe\\xf5@F\\xbe}\\xd0H\\xbe\\xccr\\x13>\\x90\\xa0l\\xbd\\x0f\\x9c\\xae\\xbdv\\xf1C>\\xf0\"\\xb6\\xbbO\\xcfL>Vt\\xdf\\xbd\\xde\\x8c)>\\x19i\\x8b=jr\\x80\\xbd\\xda;j=\\x1b\\xf9)>\\xba(9<\\xa8\\x00\\x8a=\\x12\\x17/\\xbdB\\xc4[\\xbe!\\xa5\\x16=\\xb94\\xa4=)\\x8d0\\xbe\\xaf#\\x04=w<\\xf9\\xbcP49>\\xf6)\\xac\\xbc\\xd3\\x07\\xe5\\xbd\\x95\\x1f\\xb6=\\xc2.W>[\\xbb1\\xbe,\\xe9\\x8d;7\\xa7R\\xbe2cF>\\xb5\\xf1\\x99\\xbd\\xaf\\x00J>nVY\\xbdc\\xf4\\xa7=\\x9a\\x1d[\\xbee\\x85C\\xbe\\xa4\\xea8\\xbe\\n\\xd5\\xb6\\xbd\\x13\\x81+>\\xd7i\\x08>i<\\xcb\\xbd\\xac\\xbcI\\xbe\\x08`2>\\x97\\xac\\xc4\\xbc\\x96\\'\\xad;R\\xe1\\x95\\xbd\\xdd\\xa3@>\\x14\\x9d\\xd2<\\x02\\xb8(>\\xc7\\x87:><\\x83>\\xbe\\xcd\\xe8J>j<\\x1f9\\xe7\\'H>z>Q>^\\xff\\xf8\\xbc71)>\\xe1zY\\xbd\\x19\\x81\\x94=\\xd4y\\x08>]\\xf0^=\\xed\\x91\\xf1=\\x89\\xd6U\\xbeR~9>\\xb5\\x7f>\\xbex\\x0eU>\\xbex5>\\'\\xf6=\\xbe\\xfaK\\xd1\\xbd\\xdd\\xde\\x08>\\x1b\\xbd\\x14;\\x0fPK<t\\xd9G>A\\xc5A\\xbe\\x17?*>PM^>\\x80\\x91\\x06\\xbe\\xcb\\x92\\xa5\\xbd9\\x88\\x7f\\xbd\\xde\\xc7`=\\x89\\xca\\x93=\\x18\\xddI\\xbd\\x80U\\xfc=e\\x00c\\xbe\\t\\x9f_\\xbeO\\x84\\x0f\\xbe\\xbe\\xc6\\x10\\xbePR\\x04>ye=\\xbd\\xd0\\xc1u\\xbd\\xe3\\x86=\\xbe\\x8c\\x1e@\\xbeOkA\\xbe\\xca\\x83\\x0e>\\xf2\\x82D\\xbe&/4\\xbdH\\xa4C\\xbe=\\x93]\\xbe4\\xa2T\\xbeq#\\xbf=]o\\x1c=iv\\x13>\\x92%2>\\xa7\\x97\\x93=\\x14\\x10,\\xbe\\x90\\t\\xe7;\\xd5\\x1f\\xa6<=.\\x1c<3S\\xe7\\xbd\\x08},>R#\\xdf<p\\xca->\\xf3\\xf1;=8\\xaa\\x18<:\\x8e\\x1c>\\x9d\\\\Q\\xbe\\xf3!\\xd8=]\\x0c\\x07>D_\\x1e</\\x84/>\\xa5\\x9a8\\xbec\\xc2\\xa2<\\xa0\\xff\\xde\\xbdX\\x01\\x12\\xbel\\xb4Q\\xbeI\\x95F\\xbe#\\x02\\xfc\\xbd,\\x17\\xb8=\\x8d\\x0c\\xa1=g\\xa7\\xb9;',\n",
       "                 'dims': [10, 20],\n",
       "                 'data_type': FLOAT},\n",
       "                'bias': {'name': 'linear1.bias',\n",
       "                 'raw_data': b'H\\xc4*\\xbe\\xcca\\xbd=_\\ti=jyA>j\\xef_\\xbc\\xca\\x03\\n\\xbeu\\x8dN>s\\xae\\xd3=\\xba\\xff\\xf0\\xbd\\xc13\\xa1\\xbd',\n",
       "                 'dims': [10],\n",
       "                 'data_type': FLOAT}},\n",
       "               'attributes': None,\n",
       "               'data_layout': None,\n",
       "               'inputs': ['Flatten_6'],\n",
       "               'outputs': ['Relu_8']}),\n",
       "             ('Relu_8',\n",
       "              {'op_type': RELU,\n",
       "               'initializer': {'weight': {}, 'bias': {}},\n",
       "               'attributes': None,\n",
       "               'data_layout': None,\n",
       "               'inputs': ['Gemm_7'],\n",
       "               'outputs': ['Gemm_9']}),\n",
       "             ('Gemm_9',\n",
       "              {'op_type': LINEAR,\n",
       "               'initializer': {'weight': {'name': 'linear2.weight',\n",
       "                 'raw_data': b'PYL\\xbec\\\\V\\xbeY8\\xde\\xbd!\\xe7\\x86\\xbe\\xf2\\xe9\\xfe<\\xffT\\xb9<K\\xe9T\\xbd\\xa2\\xa9\\'\\xbe\\xe5\\xe7\\xc1=W\\xf5\\xfc\\xbdAd`>3\\xe8\\xd6=\\x8f\\xb4\\x1e>\\xc6\\x9ak\\xbe\\xf4k\\x04\\xbe}\\xfd}:{\\xb8C>\\xd0\"\\xb9=\\xee\\xd1\\xa3\\xbdm)\\x0f\\xbe}D\\x8b\\xbd+\\x02\\x03=\\x9f\\r}>\\xdc\\x08\\x8b\\xbe\\xf3\\x1b\\xbb=\\xc3C;>S\\xad8\\xbe\\x12a)\\xbe\\xa8sa>\\x86\\xc9\\x99\\xbeU\\xd1\\x97>6\\xfe]\\xbetb\\x8e>S\\x89\\xae\\xbc\\xfe\\xb4\\x94\\xbe\\x90zo\\xbd\\x11\\xda\\x8f\\xbe\\xe2m\\x96=c\\xc6\\x8c\\xbe,\\xcd\\x0c>\\xca\\xea\\x0f\\xbda\\x12\\x8c\\xbe|`\\xad=\\xe2\\x86\\x86\\xbe\\xa2\\xd2\\x18>\\xed\\xb8\\xd0\\xbc|\\xf9\\x94\\xbe\\xcdEw>;)\\x9b\\xbd\\xaax\\x82\\xbeG\\xa8@>\\\\m\\xef=\\x8d\\xef\\x93\\xbe\\x0f\\xc7m\\xbe\\x01?\\x7f\\xbew\\x1aN\\xbe\\x87\\xa5(\\xbeU\\x08X\\xbev0\\x90>\\xce\\x16\\xb4\\xbdS\\xbdz>\\xd5m\\xd5=&g\\n>\\xe4\\xe8\\x12\\xbeH\\x02\\xaf\\xbc\\x8c\\x19C\\xbe\\xe8\\xa9\\x8b\\xbe_\\x16\\x8a>KbZ> \\n\\x92=@:%\\xbeY9\\xb0\\xbd\\x01\\x8f\\x14\\xbe\\x8e\\xd4Q\\xbe!\\x0e\\xe1\\xbd\\xbfz\\xb6\\xbd\\xfa\\x04\\xaa\\xbd\\xf8\\xd6\\xed<\\x8b\\x84E>\\x11\\x839>o\\xea\\x0f>V\\x7fR\\xbe\\xa7\\xad\\xc5=:\\x1cb=\\xc2V\\xfd=e\\xc7\\xea\\xbdz\\xa78\\xbekO\\x85=\\xdaD\\x8f\\xbe\\xbe\\xd5\\x0e>\\x97\\xc7\\xa6\\xbd\\x88U)\\xbet:\\xfd<\\xba~\\x84\\xbd\\xd8\\xb8\\xb6=QN6<\\xce/\\x85>h\\xed\\xc1=\\x03\\x0f\\x85\\xbed\\xe8]\\xbe',\n",
       "                 'dims': [10, 10],\n",
       "                 'data_type': FLOAT},\n",
       "                'bias': {'name': 'linear2.bias',\n",
       "                 'raw_data': b\"h(\\xbc\\xbd\\xe8f0\\xbe'\\xd7\\xf8\\xbd\\xee\\x97\\x11\\xbe\\xf3{\\x14\\xbeu\\x8c\\xb0=\\x95q\\xba=`\\x86^>m\\x028\\xbe9-3\\xbe\",\n",
       "                 'dims': [10],\n",
       "                 'data_type': FLOAT}},\n",
       "               'attributes': None,\n",
       "               'data_layout': None,\n",
       "               'inputs': ['Relu_8'],\n",
       "               'outputs': ['output']}),\n",
       "             ('output_nodes', ['output'])])"
      ]
     },
     "execution_count": 144,
     "metadata": {},
     "output_type": "execute_result"
    }
   ],
   "source": [
    "parse_onnx_model(model_onnx)"
   ]
  }
 ],
 "metadata": {
  "kernelspec": {
   "display_name": "Python 3.8.10 ('torchinfer-env': venv)",
   "language": "python",
   "name": "python3"
  },
  "language_info": {
   "codemirror_mode": {
    "name": "ipython",
    "version": 3
   },
   "file_extension": ".py",
   "mimetype": "text/x-python",
   "name": "python",
   "nbconvert_exporter": "python",
   "pygments_lexer": "ipython3",
   "version": "3.8.10"
  },
  "orig_nbformat": 4,
  "vscode": {
   "interpreter": {
    "hash": "8bd0c8d0c26ca6671a08d77814ef617b240994f0023ad3748be1965a15688631"
   }
  }
 },
 "nbformat": 4,
 "nbformat_minor": 2
}
